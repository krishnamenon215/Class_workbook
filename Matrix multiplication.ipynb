{
 "cells": [
  {
   "cell_type": "code",
   "execution_count": 1,
   "metadata": {},
   "outputs": [],
   "source": [
    "import pandas as pd\n",
    "import numpy as np"
   ]
  },
  {
   "cell_type": "code",
   "execution_count": 11,
   "metadata": {},
   "outputs": [],
   "source": [
    "# encoding the two matrices\n",
    "A = [[1,2,3],[5,3,1],[7,9,8]]\n",
    "B = [[3,4,5,6],[12,4,9,8],[8,14,4,3]]\n",
    " "
   ]
  },
  {
   "cell_type": "code",
   "execution_count": 12,
   "metadata": {},
   "outputs": [],
   "source": [
    "def matrix_multiplication(A,B):\n",
    "    # retrieving the sizes/dimensions of the matrices\n",
    "    p = len(A)\n",
    "    q = len(A[0])\n",
    "\n",
    "    t = len(B)\n",
    "    r = len(B[0])\n",
    "\n",
    "    if(q!=t):\n",
    "        return(\"Error! Matrix sizes are not compatible\")\n",
    "\n",
    "    else:\n",
    "        # creating the product matrix of dimensions p×r\n",
    "        # and filling the matrix with 0 entries\n",
    "        C = []\n",
    "        for row in range(p):\n",
    "            curr_row = []\n",
    "            for col in range(r):\n",
    "                curr_row.append(0)\n",
    "            C.append(curr_row)\n",
    "\n",
    "\n",
    "        # performing the matrix multiplication\n",
    "        for i in range(p):\n",
    "            for j in range(r):\n",
    "                curr_val = 0\n",
    "                for k in range(q):\n",
    "                    curr_val += A[i][k]*B[k][j]\n",
    "                C[i][j] = curr_val\n",
    "\n",
    "        return(C)\n"
   ]
  },
  {
   "cell_type": "code",
   "execution_count": 13,
   "metadata": {},
   "outputs": [
    {
     "data": {
      "text/plain": [
       "[[51, 54, 35, 31], [59, 46, 56, 57], [193, 176, 148, 138]]"
      ]
     },
     "execution_count": 13,
     "metadata": {},
     "output_type": "execute_result"
    }
   ],
   "source": [
    "matrix_multiplication(A,B)"
   ]
  },
  {
   "cell_type": "code",
   "execution_count": 9,
   "metadata": {},
   "outputs": [],
   "source": [
    "A = [[1,2,3],[5,3,1],[7,9,8]]\n",
    "B = [[1,2,3]]"
   ]
  },
  {
   "cell_type": "code",
   "execution_count": 10,
   "metadata": {},
   "outputs": [
    {
     "data": {
      "text/plain": [
       "'Error! Matrix sizes are not compatible'"
      ]
     },
     "execution_count": 10,
     "metadata": {},
     "output_type": "execute_result"
    }
   ],
   "source": [
    "matrix_multiplication(A,B)"
   ]
  }
 ],
 "metadata": {
  "kernelspec": {
   "display_name": "Python 3",
   "language": "python",
   "name": "python3"
  },
  "language_info": {
   "codemirror_mode": {
    "name": "ipython",
    "version": 3
   },
   "file_extension": ".py",
   "mimetype": "text/x-python",
   "name": "python",
   "nbconvert_exporter": "python",
   "pygments_lexer": "ipython3",
   "version": "3.7.1"
  }
 },
 "nbformat": 4,
 "nbformat_minor": 2
}
